{
 "cells": [
  {
   "cell_type": "code",
   "execution_count": 1,
   "id": "49b9b036",
   "metadata": {},
   "outputs": [],
   "source": [
    "#while loops continue to execute a block of code while some condition remains True\n",
    "\n",
    "#while my pool is not full, keep filling my pool with water\n",
    "\n",
    "#while my dogs are still hungry, keep feeding my dogs "
   ]
  },
  {
   "cell_type": "code",
   "execution_count": 3,
   "id": "3454570a",
   "metadata": {},
   "outputs": [],
   "source": [
    "#syntax\n",
    "\n",
    "#while some_boolean_condition:\n",
    "    #do something\n",
    "#else:\n",
    "    #do something different "
   ]
  },
  {
   "cell_type": "code",
   "execution_count": 4,
   "id": "190658db",
   "metadata": {},
   "outputs": [
    {
     "name": "stdout",
     "output_type": "stream",
     "text": [
      "The Current Value of x is 0\n",
      "The Current Value of x is 1\n",
      "The Current Value of x is 2\n",
      "The Current Value of x is 3\n",
      "The Current Value of x is 4\n"
     ]
    }
   ],
   "source": [
    "x = 0 \n",
    "\n",
    "while x <5:\n",
    "    print(f'The Current Value of x is {x}')\n",
    "    x = x+1"
   ]
  },
  {
   "cell_type": "code",
   "execution_count": null,
   "id": "accb98e4",
   "metadata": {},
   "outputs": [],
   "source": [
    "x = 0 \n",
    "\n",
    "while x <5:\n",
    "    print(f'The Current Value of x is {x}')\n",
    "    x = x + 1 "
   ]
  },
  {
   "cell_type": "code",
   "execution_count": 2,
   "id": "2032786c",
   "metadata": {},
   "outputs": [
    {
     "name": "stdout",
     "output_type": "stream",
     "text": [
      "The Current Value of x is 0\n",
      "The Current Value of x is 1\n",
      "The Current Value of x is 2\n",
      "The Current Value of x is 3\n",
      "The Current Value of x is 4\n"
     ]
    }
   ],
   "source": [
    "x = 0 \n",
    "\n",
    "while x <5:\n",
    "    print(f'The Current Value of x is {x}')\n",
    "    x = x + 1 \n",
    "# can also do x += 1"
   ]
  },
  {
   "cell_type": "code",
   "execution_count": 3,
   "id": "2b25d49b",
   "metadata": {},
   "outputs": [],
   "source": [
    "# * means infinte while loop hit interfer or restart"
   ]
  },
  {
   "cell_type": "code",
   "execution_count": 4,
   "id": "a4f46754",
   "metadata": {},
   "outputs": [
    {
     "name": "stdout",
     "output_type": "stream",
     "text": [
      "The Current Value of x is 0\n",
      "The Current Value of x is 1\n",
      "The Current Value of x is 2\n",
      "The Current Value of x is 3\n",
      "The Current Value of x is 4\n",
      "X is not less than 5\n"
     ]
    }
   ],
   "source": [
    "x = 0 \n",
    "\n",
    "while x <5:\n",
    "    print(f'The Current Value of x is {x}')\n",
    "    x = x + 1 \n",
    "else:\n",
    "    print(\"X is not less than 5\")"
   ]
  },
  {
   "cell_type": "code",
   "execution_count": 5,
   "id": "c9f448e9",
   "metadata": {},
   "outputs": [
    {
     "name": "stdout",
     "output_type": "stream",
     "text": [
      "X is not less than 5\n"
     ]
    }
   ],
   "source": [
    "x = 50\n",
    "\n",
    "while x <5:\n",
    "    print(f'The Current Value of x is {x}')\n",
    "    x = x + 1 \n",
    "else:\n",
    "    print(\"X is not less than 5\")"
   ]
  },
  {
   "cell_type": "code",
   "execution_count": 6,
   "id": "7172bf1a",
   "metadata": {},
   "outputs": [],
   "source": [
    "#break - breaks out of current closest enclosing loops\n",
    "#continue - goes to the top of the closest enclosing loop\n",
    "#pass - does nothing at all "
   ]
  },
  {
   "cell_type": "code",
   "execution_count": 7,
   "id": "e8955323",
   "metadata": {},
   "outputs": [
    {
     "name": "stdout",
     "output_type": "stream",
     "text": [
      "end of my script\n"
     ]
    }
   ],
   "source": [
    "x = [1,2,3]\n",
    "\n",
    "for item in x:\n",
    "    #comment\n",
    "    pass \n",
    "\n",
    "print('end of my script')"
   ]
  },
  {
   "cell_type": "code",
   "execution_count": 8,
   "id": "40c6deae",
   "metadata": {},
   "outputs": [],
   "source": [
    "mystring = 'Sammy'\n",
    "\n"
   ]
  },
  {
   "cell_type": "code",
   "execution_count": 9,
   "id": "06dfbaac",
   "metadata": {},
   "outputs": [
    {
     "name": "stdout",
     "output_type": "stream",
     "text": [
      "S\n",
      "a\n",
      "m\n",
      "m\n",
      "y\n"
     ]
    }
   ],
   "source": [
    "for letter in mystring:\n",
    "    print(letter)"
   ]
  },
  {
   "cell_type": "code",
   "execution_count": 10,
   "id": "d6d39ccf",
   "metadata": {},
   "outputs": [
    {
     "name": "stdout",
     "output_type": "stream",
     "text": [
      "S\n",
      "m\n",
      "m\n",
      "y\n"
     ]
    }
   ],
   "source": [
    "for letter in mystring:\n",
    "    if letter == 'a':\n",
    "        continue\n",
    "    print(letter)"
   ]
  },
  {
   "cell_type": "code",
   "execution_count": 11,
   "id": "9d804e50",
   "metadata": {},
   "outputs": [
    {
     "name": "stdout",
     "output_type": "stream",
     "text": [
      "S\n"
     ]
    }
   ],
   "source": [
    "for letter in mystring:\n",
    "    if letter == 'a':\n",
    "        break\n",
    "    print(letter)\n",
    "    \n",
    "    \n",
    "# stops loop at the variable (a)"
   ]
  },
  {
   "cell_type": "code",
   "execution_count": 12,
   "id": "18fe17c6",
   "metadata": {},
   "outputs": [
    {
     "name": "stdout",
     "output_type": "stream",
     "text": [
      "0\n",
      "1\n",
      "2\n",
      "3\n",
      "4\n"
     ]
    }
   ],
   "source": [
    "x = 0\n",
    "\n",
    "while x <5:\n",
    "    print(x)\n",
    "    x += 1"
   ]
  },
  {
   "cell_type": "code",
   "execution_count": 13,
   "id": "976528d0",
   "metadata": {},
   "outputs": [
    {
     "name": "stdout",
     "output_type": "stream",
     "text": [
      "0\n",
      "1\n"
     ]
    }
   ],
   "source": [
    "x = 0\n",
    "\n",
    "while x <5:\n",
    "    \n",
    "    if x == 2:\n",
    "        break\n",
    "    print(x)\n",
    "    x += 1"
   ]
  },
  {
   "cell_type": "code",
   "execution_count": null,
   "id": "ccefe311",
   "metadata": {},
   "outputs": [],
   "source": []
  }
 ],
 "metadata": {
  "kernelspec": {
   "display_name": "Python 3 (ipykernel)",
   "language": "python",
   "name": "python3"
  },
  "language_info": {
   "codemirror_mode": {
    "name": "ipython",
    "version": 3
   },
   "file_extension": ".py",
   "mimetype": "text/x-python",
   "name": "python",
   "nbconvert_exporter": "python",
   "pygments_lexer": "ipython3",
   "version": "3.9.13"
  }
 },
 "nbformat": 4,
 "nbformat_minor": 5
}
